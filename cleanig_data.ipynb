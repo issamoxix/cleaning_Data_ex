{
  "nbformat": 4,
  "nbformat_minor": 0,
  "metadata": {
    "colab": {
      "name": "cleanig_data.ipynb",
      "provenance": [],
      "collapsed_sections": [],
      "authorship_tag": "ABX9TyN/zYHsS/hZ8Ar8Cl3jHDUo",
      "include_colab_link": true
    },
    "kernelspec": {
      "name": "python3",
      "display_name": "Python 3"
    },
    "language_info": {
      "name": "python"
    }
  },
  "cells": [
    {
      "cell_type": "markdown",
      "metadata": {
        "id": "view-in-github",
        "colab_type": "text"
      },
      "source": [
        "<a href=\"https://colab.research.google.com/github/issamoxix/cleaning_Data_ex/blob/master/cleanig_data.ipynb\" target=\"_parent\"><img src=\"https://colab.research.google.com/assets/colab-badge.svg\" alt=\"Open In Colab\"/></a>"
      ]
    },
    {
      "cell_type": "code",
      "metadata": {
        "id": "6f7n3GiONfJU"
      },
      "source": [
        "import pandas as pd"
      ],
      "execution_count": 1,
      "outputs": []
    },
    {
      "cell_type": "markdown",
      "metadata": {
        "id": "mKyJe0d2QXVT"
      },
      "source": [
        "# Cleaning Data"
      ]
    },
    {
      "cell_type": "code",
      "metadata": {
        "colab": {
          "base_uri": "https://localhost:8080/",
          "height": 176
        },
        "id": "iNQ8VloAQVtR",
        "outputId": "3000d9dd-3014-4417-b5e3-026abdecaa46"
      },
      "source": [
        "df = pd.read_csv('data_cleaning_challenge.csv')\n",
        "df.head(3)"
      ],
      "execution_count": 2,
      "outputs": [
        {
          "output_type": "execute_result",
          "data": {
            "text/html": [
              "<div>\n",
              "<style scoped>\n",
              "    .dataframe tbody tr th:only-of-type {\n",
              "        vertical-align: middle;\n",
              "    }\n",
              "\n",
              "    .dataframe tbody tr th {\n",
              "        vertical-align: top;\n",
              "    }\n",
              "\n",
              "    .dataframe thead th {\n",
              "        text-align: right;\n",
              "    }\n",
              "</style>\n",
              "<table border=\"1\" class=\"dataframe\">\n",
              "  <thead>\n",
              "    <tr style=\"text-align: right;\">\n",
              "      <th></th>\n",
              "      <th>Row Type</th>\n",
              "      <th>Iter Number</th>\n",
              "      <th>Power1</th>\n",
              "      <th>Speed1</th>\n",
              "      <th>Speed2</th>\n",
              "      <th>Electricity</th>\n",
              "      <th>Effort</th>\n",
              "      <th>Weight</th>\n",
              "      <th>Torque</th>\n",
              "      <th>Unnamed: 9</th>\n",
              "      <th>Unnamed: 10</th>\n",
              "    </tr>\n",
              "  </thead>\n",
              "  <tbody>\n",
              "    <tr>\n",
              "      <th>0</th>\n",
              "      <td>first name: Person</td>\n",
              "      <td>last name: Human</td>\n",
              "      <td>date: end of time</td>\n",
              "      <td>NaN</td>\n",
              "      <td>NaN</td>\n",
              "      <td>NaN</td>\n",
              "      <td>NaN</td>\n",
              "      <td>NaN</td>\n",
              "      <td>NaN</td>\n",
              "      <td>NaN</td>\n",
              "      <td>NaN</td>\n",
              "    </tr>\n",
              "    <tr>\n",
              "      <th>1</th>\n",
              "      <td>NaN</td>\n",
              "      <td>NaN</td>\n",
              "      <td>NaN</td>\n",
              "      <td>NaN</td>\n",
              "      <td>NaN</td>\n",
              "      <td>NaN</td>\n",
              "      <td>NaN</td>\n",
              "      <td>NaN</td>\n",
              "      <td>NaN</td>\n",
              "      <td>NaN</td>\n",
              "      <td>NaN</td>\n",
              "    </tr>\n",
              "    <tr>\n",
              "      <th>2</th>\n",
              "      <td>Row Type</td>\n",
              "      <td>Iter Number</td>\n",
              "      <td>Power1</td>\n",
              "      <td>Speed1</td>\n",
              "      <td>Speed2</td>\n",
              "      <td>Electricity</td>\n",
              "      <td>Effort</td>\n",
              "      <td>Weight</td>\n",
              "      <td>Torque</td>\n",
              "      <td>NaN</td>\n",
              "      <td>NaN</td>\n",
              "    </tr>\n",
              "  </tbody>\n",
              "</table>\n",
              "</div>"
            ],
            "text/plain": [
              "             Row Type       Iter Number  ... Unnamed: 9 Unnamed: 10\n",
              "0  first name: Person  last name: Human  ...        NaN         NaN\n",
              "1                 NaN               NaN  ...        NaN         NaN\n",
              "2            Row Type       Iter Number  ...        NaN         NaN\n",
              "\n",
              "[3 rows x 11 columns]"
            ]
          },
          "metadata": {},
          "execution_count": 2
        }
      ]
    },
    {
      "cell_type": "code",
      "metadata": {
        "colab": {
          "base_uri": "https://localhost:8080/"
        },
        "id": "bGUB2b9aQg-R",
        "outputId": "912fd4c5-8921-48b9-f227-b4f2f9858d9a"
      },
      "source": [
        "df.info()"
      ],
      "execution_count": 5,
      "outputs": [
        {
          "output_type": "stream",
          "name": "stdout",
          "text": [
            "<class 'pandas.core.frame.DataFrame'>\n",
            "RangeIndex: 76377 entries, 0 to 76376\n",
            "Data columns (total 11 columns):\n",
            " #   Column       Non-Null Count  Dtype  \n",
            "---  ------       --------------  -----  \n",
            " 0   Row Type     58397 non-null  object \n",
            " 1   Iter Number  58397 non-null  object \n",
            " 2   Power1       58397 non-null  object \n",
            " 3   Speed1       52403 non-null  object \n",
            " 4   Speed2       52403 non-null  object \n",
            " 5   Electricity  52403 non-null  object \n",
            " 6   Effort       52403 non-null  object \n",
            " 7   Weight       52403 non-null  object \n",
            " 8   Torque       52403 non-null  object \n",
            " 9   Unnamed: 9   0 non-null      float64\n",
            " 10  Unnamed: 10  83 non-null     object \n",
            "dtypes: float64(1), object(10)\n",
            "memory usage: 6.4+ MB\n"
          ]
        }
      ]
    },
    {
      "cell_type": "code",
      "metadata": {
        "id": "vTD-VjaIQp9o"
      },
      "source": [
        "df = df.drop(columns=['Unnamed: 9','Unnamed: 10'])"
      ],
      "execution_count": 11,
      "outputs": []
    },
    {
      "cell_type": "code",
      "metadata": {
        "colab": {
          "base_uri": "https://localhost:8080/",
          "height": 204
        },
        "id": "IEQJTHqPRrbB",
        "outputId": "e8996fe5-7314-4288-ec72-9f007f118125"
      },
      "source": [
        "df.tail()"
      ],
      "execution_count": 21,
      "outputs": [
        {
          "output_type": "execute_result",
          "data": {
            "text/html": [
              "<div>\n",
              "<style scoped>\n",
              "    .dataframe tbody tr th:only-of-type {\n",
              "        vertical-align: middle;\n",
              "    }\n",
              "\n",
              "    .dataframe tbody tr th {\n",
              "        vertical-align: top;\n",
              "    }\n",
              "\n",
              "    .dataframe thead th {\n",
              "        text-align: right;\n",
              "    }\n",
              "</style>\n",
              "<table border=\"1\" class=\"dataframe\">\n",
              "  <thead>\n",
              "    <tr style=\"text-align: right;\">\n",
              "      <th></th>\n",
              "      <th>Row Type</th>\n",
              "      <th>Iter Number</th>\n",
              "      <th>Power1</th>\n",
              "      <th>Speed1</th>\n",
              "      <th>Speed2</th>\n",
              "      <th>Electricity</th>\n",
              "      <th>Effort</th>\n",
              "      <th>Weight</th>\n",
              "      <th>Torque</th>\n",
              "    </tr>\n",
              "  </thead>\n",
              "  <tbody>\n",
              "    <tr>\n",
              "      <th>76372</th>\n",
              "      <td>Iter</td>\n",
              "      <td>6</td>\n",
              "      <td>879</td>\n",
              "      <td>73</td>\n",
              "      <td>977</td>\n",
              "      <td>680</td>\n",
              "      <td>500</td>\n",
              "      <td>395</td>\n",
              "      <td>863</td>\n",
              "    </tr>\n",
              "    <tr>\n",
              "      <th>76373</th>\n",
              "      <td>Average</td>\n",
              "      <td>979</td>\n",
              "      <td>641</td>\n",
              "      <td>531</td>\n",
              "      <td>374</td>\n",
              "      <td>448</td>\n",
              "      <td>407</td>\n",
              "      <td>185</td>\n",
              "      <td>439</td>\n",
              "    </tr>\n",
              "    <tr>\n",
              "      <th>76374</th>\n",
              "      <td>Maximum</td>\n",
              "      <td>783</td>\n",
              "      <td>172</td>\n",
              "      <td>941</td>\n",
              "      <td>53</td>\n",
              "      <td>982</td>\n",
              "      <td>217</td>\n",
              "      <td>963</td>\n",
              "      <td>502</td>\n",
              "    </tr>\n",
              "    <tr>\n",
              "      <th>76375</th>\n",
              "      <td>Std.Dev.</td>\n",
              "      <td>221</td>\n",
              "      <td>112</td>\n",
              "      <td>717</td>\n",
              "      <td>630</td>\n",
              "      <td>239</td>\n",
              "      <td>561</td>\n",
              "      <td>142</td>\n",
              "      <td>909</td>\n",
              "    </tr>\n",
              "    <tr>\n",
              "      <th>76376</th>\n",
              "      <td>Total</td>\n",
              "      <td>429</td>\n",
              "      <td>-</td>\n",
              "      <td>-</td>\n",
              "      <td>-</td>\n",
              "      <td>-</td>\n",
              "      <td>847</td>\n",
              "      <td>583</td>\n",
              "      <td>407</td>\n",
              "    </tr>\n",
              "  </tbody>\n",
              "</table>\n",
              "</div>"
            ],
            "text/plain": [
              "       Row Type Iter Number Power1 Speed1  ... Electricity Effort Weight Torque\n",
              "76372      Iter           6    879     73  ...         680    500    395    863\n",
              "76373   Average         979    641    531  ...         448    407    185    439\n",
              "76374   Maximum         783    172    941  ...         982    217    963    502\n",
              "76375  Std.Dev.         221    112    717  ...         239    561    142    909\n",
              "76376     Total         429      -      -  ...           -    847    583    407\n",
              "\n",
              "[5 rows x 9 columns]"
            ]
          },
          "metadata": {},
          "execution_count": 21
        }
      ]
    },
    {
      "cell_type": "code",
      "metadata": {
        "id": "xKWheLYqR-ix"
      },
      "source": [
        "cols = df.columns\n",
        "def GetType(val):\n",
        "  try:\n",
        "    float(val)\n",
        "    return 0\n",
        "  except:\n",
        "    return 1"
      ],
      "execution_count": 58,
      "outputs": []
    },
    {
      "cell_type": "code",
      "metadata": {
        "id": "GkoZlKPDTmWr"
      },
      "source": [
        "# df['Iter Number'].map(lambda x : GetType(x))\n",
        "# float('sdsd')\n",
        "new_df = pd.DataFrame(columns=cols)"
      ],
      "execution_count": 52,
      "outputs": []
    },
    {
      "cell_type": "code",
      "metadata": {
        "id": "lZAgasnVVWj6"
      },
      "source": [
        "df['Str_Iter_n'] = df['Iter Number'].map(lambda x: GetType(x))"
      ],
      "execution_count": 59,
      "outputs": []
    },
    {
      "cell_type": "code",
      "metadata": {
        "id": "JQ15_enUU94x"
      },
      "source": [
        "cl_df = df[df['Str_Iter_n'] != 1].dropna().drop(columns=['Str_Iter_n'])"
      ],
      "execution_count": 70,
      "outputs": []
    },
    {
      "cell_type": "code",
      "metadata": {
        "id": "VZPUGIKzW0kV"
      },
      "source": [
        "cl_df = cl_df[cl_df['Power1'] != '-']"
      ],
      "execution_count": 86,
      "outputs": []
    },
    {
      "cell_type": "code",
      "metadata": {
        "id": "AIapyNQXXJ7Z"
      },
      "source": [
        "cl_df = cl_df.astype({'Iter Number':int})\n",
        "cl_df = cl_df.astype({'Power1':int})\n",
        "cl_df = cl_df.astype({'Speed1':int})\n",
        "cl_df = cl_df.astype({'Speed2':int})\n",
        "cl_df = cl_df.astype({'Effort':int})\n",
        "cl_df = cl_df.astype({'Weight':int})\n",
        "cl_df = cl_df.astype({'Electricity':int})\n",
        "cl_df = cl_df.astype({'Torque':int})"
      ],
      "execution_count": 93,
      "outputs": []
    },
    {
      "cell_type": "code",
      "metadata": {
        "colab": {
          "base_uri": "https://localhost:8080/"
        },
        "id": "8Ys0XulnXmow",
        "outputId": "df344cca-e401-4e89-a361-17928de6b605"
      },
      "source": [
        "cl_df.info()"
      ],
      "execution_count": 95,
      "outputs": [
        {
          "output_type": "stream",
          "name": "stdout",
          "text": [
            "<class 'pandas.core.frame.DataFrame'>\n",
            "Int64Index: 40415 entries, 3 to 76375\n",
            "Data columns (total 9 columns):\n",
            " #   Column       Non-Null Count  Dtype \n",
            "---  ------       --------------  ----- \n",
            " 0   Row Type     40415 non-null  object\n",
            " 1   Iter Number  40415 non-null  int64 \n",
            " 2   Power1       40415 non-null  int64 \n",
            " 3   Speed1       40415 non-null  int64 \n",
            " 4   Speed2       40415 non-null  int64 \n",
            " 5   Electricity  40415 non-null  int64 \n",
            " 6   Effort       40415 non-null  int64 \n",
            " 7   Weight       40415 non-null  int64 \n",
            " 8   Torque       40415 non-null  int64 \n",
            "dtypes: int64(8), object(1)\n",
            "memory usage: 3.1+ MB\n"
          ]
        }
      ]
    },
    {
      "cell_type": "markdown",
      "metadata": {
        "id": "eivc5Kn5aJfP"
      },
      "source": [
        "## Process\n",
        "\n",
        "* removed NaN vals\n",
        "* Removed string types from int columns\n",
        "* changed types"
      ]
    },
    {
      "cell_type": "code",
      "metadata": {
        "colab": {
          "base_uri": "https://localhost:8080/",
          "height": 297
        },
        "id": "5Wkzp73XZ4kP",
        "outputId": "13891b7b-e3ca-41ca-b930-18775623d62a"
      },
      "source": [
        "cl_df.describe()"
      ],
      "execution_count": 97,
      "outputs": [
        {
          "output_type": "execute_result",
          "data": {
            "text/html": [
              "<div>\n",
              "<style scoped>\n",
              "    .dataframe tbody tr th:only-of-type {\n",
              "        vertical-align: middle;\n",
              "    }\n",
              "\n",
              "    .dataframe tbody tr th {\n",
              "        vertical-align: top;\n",
              "    }\n",
              "\n",
              "    .dataframe thead th {\n",
              "        text-align: right;\n",
              "    }\n",
              "</style>\n",
              "<table border=\"1\" class=\"dataframe\">\n",
              "  <thead>\n",
              "    <tr style=\"text-align: right;\">\n",
              "      <th></th>\n",
              "      <th>Iter Number</th>\n",
              "      <th>Power1</th>\n",
              "      <th>Speed1</th>\n",
              "      <th>Speed2</th>\n",
              "      <th>Electricity</th>\n",
              "      <th>Effort</th>\n",
              "      <th>Weight</th>\n",
              "      <th>Torque</th>\n",
              "    </tr>\n",
              "  </thead>\n",
              "  <tbody>\n",
              "    <tr>\n",
              "      <th>count</th>\n",
              "      <td>40415.000000</td>\n",
              "      <td>40415.000000</td>\n",
              "      <td>40415.000000</td>\n",
              "      <td>40415.000000</td>\n",
              "      <td>40415.000000</td>\n",
              "      <td>40415.000000</td>\n",
              "      <td>40415.000000</td>\n",
              "      <td>40415.000000</td>\n",
              "    </tr>\n",
              "    <tr>\n",
              "      <th>mean</th>\n",
              "      <td>222.685760</td>\n",
              "      <td>502.263763</td>\n",
              "      <td>497.317976</td>\n",
              "      <td>502.538191</td>\n",
              "      <td>498.273389</td>\n",
              "      <td>500.490882</td>\n",
              "      <td>498.530917</td>\n",
              "      <td>500.999827</td>\n",
              "    </tr>\n",
              "    <tr>\n",
              "      <th>std</th>\n",
              "      <td>312.468797</td>\n",
              "      <td>289.555586</td>\n",
              "      <td>288.815334</td>\n",
              "      <td>288.680299</td>\n",
              "      <td>289.577071</td>\n",
              "      <td>289.621534</td>\n",
              "      <td>288.695017</td>\n",
              "      <td>288.515731</td>\n",
              "    </tr>\n",
              "    <tr>\n",
              "      <th>min</th>\n",
              "      <td>1.000000</td>\n",
              "      <td>1.000000</td>\n",
              "      <td>1.000000</td>\n",
              "      <td>1.000000</td>\n",
              "      <td>1.000000</td>\n",
              "      <td>1.000000</td>\n",
              "      <td>1.000000</td>\n",
              "      <td>1.000000</td>\n",
              "    </tr>\n",
              "    <tr>\n",
              "      <th>25%</th>\n",
              "      <td>2.000000</td>\n",
              "      <td>253.000000</td>\n",
              "      <td>247.000000</td>\n",
              "      <td>251.000000</td>\n",
              "      <td>247.000000</td>\n",
              "      <td>249.000000</td>\n",
              "      <td>248.000000</td>\n",
              "      <td>251.000000</td>\n",
              "    </tr>\n",
              "    <tr>\n",
              "      <th>50%</th>\n",
              "      <td>5.000000</td>\n",
              "      <td>503.000000</td>\n",
              "      <td>497.000000</td>\n",
              "      <td>505.000000</td>\n",
              "      <td>497.000000</td>\n",
              "      <td>500.000000</td>\n",
              "      <td>499.000000</td>\n",
              "      <td>502.000000</td>\n",
              "    </tr>\n",
              "    <tr>\n",
              "      <th>75%</th>\n",
              "      <td>436.000000</td>\n",
              "      <td>754.000000</td>\n",
              "      <td>745.000000</td>\n",
              "      <td>753.000000</td>\n",
              "      <td>749.000000</td>\n",
              "      <td>751.000000</td>\n",
              "      <td>746.000000</td>\n",
              "      <td>749.000000</td>\n",
              "    </tr>\n",
              "    <tr>\n",
              "      <th>max</th>\n",
              "      <td>1000.000000</td>\n",
              "      <td>1000.000000</td>\n",
              "      <td>1000.000000</td>\n",
              "      <td>1000.000000</td>\n",
              "      <td>1000.000000</td>\n",
              "      <td>1000.000000</td>\n",
              "      <td>1000.000000</td>\n",
              "      <td>1000.000000</td>\n",
              "    </tr>\n",
              "  </tbody>\n",
              "</table>\n",
              "</div>"
            ],
            "text/plain": [
              "        Iter Number        Power1  ...        Weight        Torque\n",
              "count  40415.000000  40415.000000  ...  40415.000000  40415.000000\n",
              "mean     222.685760    502.263763  ...    498.530917    500.999827\n",
              "std      312.468797    289.555586  ...    288.695017    288.515731\n",
              "min        1.000000      1.000000  ...      1.000000      1.000000\n",
              "25%        2.000000    253.000000  ...    248.000000    251.000000\n",
              "50%        5.000000    503.000000  ...    499.000000    502.000000\n",
              "75%      436.000000    754.000000  ...    746.000000    749.000000\n",
              "max     1000.000000   1000.000000  ...   1000.000000   1000.000000\n",
              "\n",
              "[8 rows x 8 columns]"
            ]
          },
          "metadata": {},
          "execution_count": 97
        }
      ]
    }
  ]
}